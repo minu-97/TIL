{
  "cells": [
    {
      "attachments": {},
      "cell_type": "markdown",
      "metadata": {
        "colab_type": "text",
        "id": "view-in-github"
      },
      "source": [
        "<a href=\"https://colab.research.google.com/github/minu-97/TIL/blob/master/Data_EDA.ipynb\" target=\"_parent\"><img src=\"https://colab.research.google.com/assets/colab-badge.svg\" alt=\"Open In Colab\"/></a>"
      ]
    },
    {
      "attachments": {},
      "cell_type": "markdown",
      "metadata": {
        "id": "Nncj7AI9D54c"
      },
      "source": [
        "## EDA"
      ]
    },
    {
      "cell_type": "code",
      "execution_count": null,
      "metadata": {
        "colab": {
          "base_uri": "https://localhost:8080/"
        },
        "id": "gjUi3JFJXvib",
        "outputId": "50a692a6-4581-4cef-d9e7-270cec006c0c"
      },
      "outputs": [
        {
          "name": "stdout",
          "output_type": "stream",
          "text": [
            "Mounted at /content/drive\n"
          ]
        }
      ],
      "source": [
        "from google.colab import drive\n",
        "drive.mount('/content/drive')"
      ]
    },
    {
      "cell_type": "code",
      "execution_count": null,
      "metadata": {
        "colab": {
          "base_uri": "https://localhost:8080/"
        },
        "id": "Fk3LXpi7D1PB",
        "outputId": "34459e77-df71-4794-ce50-a19e61190a2b"
      },
      "outputs": [
        {
          "name": "stdout",
          "output_type": "stream",
          "text": [
            "jupyter envirionment\n"
          ]
        }
      ],
      "source": [
        "import os\n",
        "import sys\n",
        "import warnings\n",
        "import numpy as np\n",
        "import pandas as pd\n",
        "import json\n",
        "\n",
        "import matplotlib.pyplot as plt\n",
        "%matplotlib inline\n",
        "import seaborn as sns\n",
        "sns.set(style='white', context='notebook', palette='deep')\n",
        "\n",
        "warnings.filterwarnings(action='ignore')\n",
        "\n",
        "if get_ipython():\n",
        "    print(\"jupyter envirionment\")\n",
        "    PROJECT_DIR = os.path.abspath(os.path.join(os.path.dirname('__file__'), '..'))\n",
        "    from tqdm import tqdm_notebook as tqdm  # 이거 안해주면 한 줄씩 출력됨 ;;\n",
        "else:\n",
        "    print(\"command shell envirionment\")\n",
        "    PROJECT_DIR = os.path.abspath(os.path.join(os.path.dirname(__file__), '..'))\n",
        "    from tqdm import tqdm\n",
        "\n",
        "# sys.pathdp PROJECT_DIR 추가\n",
        "sys.path.insert(0, PROJECT_DIR)"
      ]
    },
    {
      "cell_type": "code",
      "execution_count": null,
      "metadata": {
        "id": "RH46fR6ixUh3"
      },
      "outputs": [],
      "source": [
        "DATA_DIR = \"/content/drive/MyDrive/multi/final_project/kobart_model/data/training/01.news_r/2~3sent\"\n",
        "RAW_DATA_DIR = \"/content/drive/MyDrive/multi/final_project/kobart_model/data/validation/01.news_r/2~3sent\""
      ]
    },
    {
      "cell_type": "code",
      "execution_count": null,
      "metadata": {
        "colab": {
          "base_uri": "https://localhost:8080/",
          "height": 36
        },
        "id": "TwSBxn1Exd7M",
        "outputId": "05b44f96-c051-4a96-c62f-fd5c2ba6d2ba"
      },
      "outputs": [
        {
          "data": {
            "application/vnd.google.colaboratory.intrinsic+json": {
              "type": "string"
            },
            "text/plain": [
              "'/content/drive/MyDrive/multi/final_project/kobart_model/data/training/01.news_r/2~3sent'"
            ]
          },
          "execution_count": 7,
          "metadata": {},
          "output_type": "execute_result"
        }
      ],
      "source": [
        "DATA_DIR"
      ]
    },
    {
      "cell_type": "code",
      "execution_count": null,
      "metadata": {
        "id": "3UA9IE-xZM97"
      },
      "outputs": [],
      "source": [
        "import pandas as pd\n",
        "import numpy as np\n",
        "import os\n",
        "import json\n",
        "\n",
        "data_list = []\n",
        "topic_list = []\n",
        "media_list = []\n",
        "cnt = 0\n",
        "data_path = '/content/drive/MyDrive/multi/final_project/kobart_model/data/training/01.news_r/2~3sent/'\n",
        "folders = os.listdir(data_path)\n",
        "# print(len(folders))\n",
        "\n",
        "\n",
        "for i in range(0,1000):\n",
        "  if folders[i].split('.')[1] == 'json':\n",
        "    file = data_path+folders[i]\n",
        "    with open(file, 'r') as file:\n",
        "        # print(i)\n",
        "        data = json.load(file)\n",
        "        data_str = ''.join(data.get('Meta(Refine)').get('passage'))\n",
        "        data_list.append(data_str)\n",
        "        topic_str = ''.join(data.get('Annotation').get('summary2'))\n",
        "        topic_list.append(topic_str)\n",
        "        media_str =''.join(data.get('Meta(Acqusition)').get('publisher'))\n",
        "        media_list.append(media_str)\n",
        "            \n",
        "# dict 형태로 합치기\n",
        "train_dict_dataset = {'media' : media_list, \"article_orginal\" : data_list, \"extractive\" :  topic_list}\n",
        "train_df = pd.DataFrame(train_dict_dataset)"
      ]
    },
    {
      "cell_type": "code",
      "execution_count": null,
      "metadata": {
        "colab": {
          "base_uri": "https://localhost:8080/",
          "height": 641
        },
        "id": "h34oCbJOxrwS",
        "outputId": "4f91c4ab-0160-40f8-8a56-5de56cdcc1b8"
      },
      "outputs": [
        {
          "data": {
            "text/html": [
              "\n",
              "  <div id=\"df-93a29384-8f83-4afc-becc-2f49a74f5bd5\">\n",
              "    <div class=\"colab-df-container\">\n",
              "      <div>\n",
              "<style scoped>\n",
              "    .dataframe tbody tr th:only-of-type {\n",
              "        vertical-align: middle;\n",
              "    }\n",
              "\n",
              "    .dataframe tbody tr th {\n",
              "        vertical-align: top;\n",
              "    }\n",
              "\n",
              "    .dataframe thead th {\n",
              "        text-align: right;\n",
              "    }\n",
              "</style>\n",
              "<table border=\"1\" class=\"dataframe\">\n",
              "  <thead>\n",
              "    <tr style=\"text-align: right;\">\n",
              "      <th></th>\n",
              "      <th>media</th>\n",
              "      <th>article_orginal</th>\n",
              "      <th>extractive</th>\n",
              "    </tr>\n",
              "  </thead>\n",
              "  <tbody>\n",
              "    <tr>\n",
              "      <th>0</th>\n",
              "      <td>중앙일보</td>\n",
              "      <td>불에 탈 땐 ‘시안화수소’란 치명적인 맹독성 가스를 내뿜는데 한 모금만 들이마셔도...</td>\n",
              "      <td>샌드위치 패널 가운데 들어가는 단열재로 불에 잘 타지 않는 난연성 제품 대신 값싼 ...</td>\n",
              "    </tr>\n",
              "    <tr>\n",
              "      <th>1</th>\n",
              "      <td>중앙일보</td>\n",
              "      <td>기능성을 살린 유틸리티 웨어가 인기다.\\n  일명 '워크웨어'라고도 불리는데 산업 ...</td>\n",
              "      <td>기능성을 살린 유틸리티 웨어가 인기다. 일명 '워크웨어'라고도 불리는데 산업 현장에...</td>\n",
              "    </tr>\n",
              "    <tr>\n",
              "      <th>2</th>\n",
              "      <td>중앙일보</td>\n",
              "      <td>올 1분기 한국 경제가 1년 만에 다시 역성장할 위기에 놓였다.\\n  한국 경제에 ...</td>\n",
              "      <td>올 1분기 한국 경제가 1년 만에 다시 역성장할 위기에 놓였다. 한국 경제에 대한 ...</td>\n",
              "    </tr>\n",
              "    <tr>\n",
              "      <th>3</th>\n",
              "      <td>중앙일보</td>\n",
              "      <td>JYP엔터테인먼트가 새롭게 내놓은 일본 9인조 걸그룹 니쥬(NiziU)가 일본에서...</td>\n",
              "      <td>JYP엔터테인먼트가 새롭게 내놓은 일본 9인조 걸그룹 니쥬(NiziU)가 일본에서 ...</td>\n",
              "    </tr>\n",
              "    <tr>\n",
              "      <th>4</th>\n",
              "      <td>중앙일보</td>\n",
              "      <td>당시 5개 상영관에서 영화를 보던 고객 120여명이 환불 약속을 받고 관람 중단에...</td>\n",
              "      <td>영화관 측은 1일 오후 5시 30분쯤 보건당국으로부터 연락을 받은 뒤 1시간 만에 ...</td>\n",
              "    </tr>\n",
              "    <tr>\n",
              "      <th>...</th>\n",
              "      <td>...</td>\n",
              "      <td>...</td>\n",
              "      <td>...</td>\n",
              "    </tr>\n",
              "    <tr>\n",
              "      <th>495</th>\n",
              "      <td>중앙일보</td>\n",
              "      <td>라임자산운용과 청와대, 서로 관련 없을 것 같은 두 곳의 연결고리로 코스닥 기업 실...</td>\n",
              "      <td>라임자산운용과 청와대, 서로 관련 없을 것 같은 두 곳의 연결고리로 코스닥 기업 실...</td>\n",
              "    </tr>\n",
              "    <tr>\n",
              "      <th>496</th>\n",
              "      <td>중앙일보</td>\n",
              "      <td>아스트라제네카에서 이어 노바백스까지….\\n  SK그룹의 백신 전문기업 SK바이오사이...</td>\n",
              "      <td>SK그룹의 백신 전문기업 SK바이오사이언스가 신종 코로나바이러스 감염증(코로나19)...</td>\n",
              "    </tr>\n",
              "    <tr>\n",
              "      <th>497</th>\n",
              "      <td>중앙일보</td>\n",
              "      <td>수그러들 것 같았던 코로나19가 다시 늘어나 걱정하는 국민이 늘고 있던 지난 6일....</td>\n",
              "      <td>경제사회노동위원회 사무실에서 한국노총·한국경총 및 고용노동부 간부들이 모였다. 그래...</td>\n",
              "    </tr>\n",
              "    <tr>\n",
              "      <th>498</th>\n",
              "      <td>중앙일보</td>\n",
              "      <td>지난해 인기를 끈 서적『90년대생이 온다』 이후, '90년대생'은 한국 사회를 읽는...</td>\n",
              "      <td>지난해 인기를 끈 서적『90년대생이 온다』 이후, '90년대생'은 한국 사회를 읽는...</td>\n",
              "    </tr>\n",
              "    <tr>\n",
              "      <th>499</th>\n",
              "      <td>중앙일보</td>\n",
              "      <td>라임 사태의 핵심 인물인 이종필 전 라임자산운용 부사장이 코스닥 상장사 스타모빌리티...</td>\n",
              "      <td>스타모빌리티는 라임의 배후 ‘회장님’으로 알려진 김모(46) 전 회장이 사실상 최대...</td>\n",
              "    </tr>\n",
              "  </tbody>\n",
              "</table>\n",
              "<p>500 rows × 3 columns</p>\n",
              "</div>\n",
              "      <button class=\"colab-df-convert\" onclick=\"convertToInteractive('df-93a29384-8f83-4afc-becc-2f49a74f5bd5')\"\n",
              "              title=\"Convert this dataframe to an interactive table.\"\n",
              "              style=\"display:none;\">\n",
              "        \n",
              "  <svg xmlns=\"http://www.w3.org/2000/svg\" height=\"24px\"viewBox=\"0 0 24 24\"\n",
              "       width=\"24px\">\n",
              "    <path d=\"M0 0h24v24H0V0z\" fill=\"none\"/>\n",
              "    <path d=\"M18.56 5.44l.94 2.06.94-2.06 2.06-.94-2.06-.94-.94-2.06-.94 2.06-2.06.94zm-11 1L8.5 8.5l.94-2.06 2.06-.94-2.06-.94L8.5 2.5l-.94 2.06-2.06.94zm10 10l.94 2.06.94-2.06 2.06-.94-2.06-.94-.94-2.06-.94 2.06-2.06.94z\"/><path d=\"M17.41 7.96l-1.37-1.37c-.4-.4-.92-.59-1.43-.59-.52 0-1.04.2-1.43.59L10.3 9.45l-7.72 7.72c-.78.78-.78 2.05 0 2.83L4 21.41c.39.39.9.59 1.41.59.51 0 1.02-.2 1.41-.59l7.78-7.78 2.81-2.81c.8-.78.8-2.07 0-2.86zM5.41 20L4 18.59l7.72-7.72 1.47 1.35L5.41 20z\"/>\n",
              "  </svg>\n",
              "      </button>\n",
              "      \n",
              "  <style>\n",
              "    .colab-df-container {\n",
              "      display:flex;\n",
              "      flex-wrap:wrap;\n",
              "      gap: 12px;\n",
              "    }\n",
              "\n",
              "    .colab-df-convert {\n",
              "      background-color: #E8F0FE;\n",
              "      border: none;\n",
              "      border-radius: 50%;\n",
              "      cursor: pointer;\n",
              "      display: none;\n",
              "      fill: #1967D2;\n",
              "      height: 32px;\n",
              "      padding: 0 0 0 0;\n",
              "      width: 32px;\n",
              "    }\n",
              "\n",
              "    .colab-df-convert:hover {\n",
              "      background-color: #E2EBFA;\n",
              "      box-shadow: 0px 1px 2px rgba(60, 64, 67, 0.3), 0px 1px 3px 1px rgba(60, 64, 67, 0.15);\n",
              "      fill: #174EA6;\n",
              "    }\n",
              "\n",
              "    [theme=dark] .colab-df-convert {\n",
              "      background-color: #3B4455;\n",
              "      fill: #D2E3FC;\n",
              "    }\n",
              "\n",
              "    [theme=dark] .colab-df-convert:hover {\n",
              "      background-color: #434B5C;\n",
              "      box-shadow: 0px 1px 3px 1px rgba(0, 0, 0, 0.15);\n",
              "      filter: drop-shadow(0px 1px 2px rgba(0, 0, 0, 0.3));\n",
              "      fill: #FFFFFF;\n",
              "    }\n",
              "  </style>\n",
              "\n",
              "      <script>\n",
              "        const buttonEl =\n",
              "          document.querySelector('#df-93a29384-8f83-4afc-becc-2f49a74f5bd5 button.colab-df-convert');\n",
              "        buttonEl.style.display =\n",
              "          google.colab.kernel.accessAllowed ? 'block' : 'none';\n",
              "\n",
              "        async function convertToInteractive(key) {\n",
              "          const element = document.querySelector('#df-93a29384-8f83-4afc-becc-2f49a74f5bd5');\n",
              "          const dataTable =\n",
              "            await google.colab.kernel.invokeFunction('convertToInteractive',\n",
              "                                                     [key], {});\n",
              "          if (!dataTable) return;\n",
              "\n",
              "          const docLinkHtml = 'Like what you see? Visit the ' +\n",
              "            '<a target=\"_blank\" href=https://colab.research.google.com/notebooks/data_table.ipynb>data table notebook</a>'\n",
              "            + ' to learn more about interactive tables.';\n",
              "          element.innerHTML = '';\n",
              "          dataTable['output_type'] = 'display_data';\n",
              "          await google.colab.output.renderOutput(dataTable, element);\n",
              "          const docLink = document.createElement('div');\n",
              "          docLink.innerHTML = docLinkHtml;\n",
              "          element.appendChild(docLink);\n",
              "        }\n",
              "      </script>\n",
              "    </div>\n",
              "  </div>\n",
              "  "
            ],
            "text/plain": [
              "    media                                    article_orginal  \\\n",
              "0    중앙일보   불에 탈 땐 ‘시안화수소’란 치명적인 맹독성 가스를 내뿜는데 한 모금만 들이마셔도...   \n",
              "1    중앙일보  기능성을 살린 유틸리티 웨어가 인기다.\\n  일명 '워크웨어'라고도 불리는데 산업 ...   \n",
              "2    중앙일보  올 1분기 한국 경제가 1년 만에 다시 역성장할 위기에 놓였다.\\n  한국 경제에 ...   \n",
              "3    중앙일보   JYP엔터테인먼트가 새롭게 내놓은 일본 9인조 걸그룹 니쥬(NiziU)가 일본에서...   \n",
              "4    중앙일보   당시 5개 상영관에서 영화를 보던 고객 120여명이 환불 약속을 받고 관람 중단에...   \n",
              "..    ...                                                ...   \n",
              "495  중앙일보  라임자산운용과 청와대, 서로 관련 없을 것 같은 두 곳의 연결고리로 코스닥 기업 실...   \n",
              "496  중앙일보  아스트라제네카에서 이어 노바백스까지….\\n  SK그룹의 백신 전문기업 SK바이오사이...   \n",
              "497  중앙일보  수그러들 것 같았던 코로나19가 다시 늘어나 걱정하는 국민이 늘고 있던 지난 6일....   \n",
              "498  중앙일보  지난해 인기를 끈 서적『90년대생이 온다』 이후, '90년대생'은 한국 사회를 읽는...   \n",
              "499  중앙일보  라임 사태의 핵심 인물인 이종필 전 라임자산운용 부사장이 코스닥 상장사 스타모빌리티...   \n",
              "\n",
              "                                            extractive  \n",
              "0    샌드위치 패널 가운데 들어가는 단열재로 불에 잘 타지 않는 난연성 제품 대신 값싼 ...  \n",
              "1    기능성을 살린 유틸리티 웨어가 인기다. 일명 '워크웨어'라고도 불리는데 산업 현장에...  \n",
              "2    올 1분기 한국 경제가 1년 만에 다시 역성장할 위기에 놓였다. 한국 경제에 대한 ...  \n",
              "3    JYP엔터테인먼트가 새롭게 내놓은 일본 9인조 걸그룹 니쥬(NiziU)가 일본에서 ...  \n",
              "4    영화관 측은 1일 오후 5시 30분쯤 보건당국으로부터 연락을 받은 뒤 1시간 만에 ...  \n",
              "..                                                 ...  \n",
              "495  라임자산운용과 청와대, 서로 관련 없을 것 같은 두 곳의 연결고리로 코스닥 기업 실...  \n",
              "496  SK그룹의 백신 전문기업 SK바이오사이언스가 신종 코로나바이러스 감염증(코로나19)...  \n",
              "497  경제사회노동위원회 사무실에서 한국노총·한국경총 및 고용노동부 간부들이 모였다. 그래...  \n",
              "498  지난해 인기를 끈 서적『90년대생이 온다』 이후, '90년대생'은 한국 사회를 읽는...  \n",
              "499  스타모빌리티는 라임의 배후 ‘회장님’으로 알려진 김모(46) 전 회장이 사실상 최대...  \n",
              "\n",
              "[500 rows x 3 columns]"
            ]
          },
          "execution_count": 11,
          "metadata": {},
          "output_type": "execute_result"
        }
      ],
      "source": [
        "train_df"
      ]
    },
    {
      "attachments": {},
      "cell_type": "markdown",
      "metadata": {},
      "source": [
        "## 원문 내 문장의 분포"
      ]
    },
    {
      "attachments": {},
      "cell_type": "markdown",
      "metadata": {},
      "source": [
        "## 원문 내 단어의 분포"
      ]
    },
    {
      "attachments": {},
      "cell_type": "markdown",
      "metadata": {},
      "source": [
        "## 요약문 내 문장의 분포"
      ]
    },
    {
      "attachments": {},
      "cell_type": "markdown",
      "metadata": {},
      "source": [
        "## 요약문 내 단어의 분포"
      ]
    },
    {
      "cell_type": "code",
      "execution_count": null,
      "metadata": {},
      "outputs": [],
      "source": []
    },
    {
      "cell_type": "code",
      "execution_count": null,
      "metadata": {
        "id": "4RT4QaeHzWCJ"
      },
      "outputs": [],
      "source": []
    }
  ],
  "metadata": {
    "colab": {
      "authorship_tag": "ABX9TyMjFdKVOsZ/PKYNHLSvl0BD",
      "include_colab_link": true,
      "provenance": []
    },
    "kernelspec": {
      "display_name": "Python 3",
      "name": "python3"
    },
    "language_info": {
      "name": "python"
    }
  },
  "nbformat": 4,
  "nbformat_minor": 0
}
